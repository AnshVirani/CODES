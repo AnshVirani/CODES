{
 "cells": [
  {
   "cell_type": "code",
   "execution_count": null,
   "metadata": {},
   "outputs": [],
   "source": [
    "import numpy as np"
   ]
  },
  {
   "cell_type": "code",
   "execution_count": null,
   "metadata": {},
   "outputs": [],
   "source": [
    "def expectation(X):\n",
    "    \"\"\"\n",
    "    Computes the expectation of a discrete random variable X given its probability mass function (PMF).\n",
    "\n",
    "    Args:\n",
    "    - X (list of tuples): Probability mass function (PMF) of X represented as a list of tuples in the format (value, probability).\n",
    "\n",
    "    Returns:\n",
    "    - E_X (float): Expectation of X, calculated as the sum of each value weighted by its corresponding probability.\n",
    "    \"\"\"\n",
    "    return sum(value * probability for value, probability in X)"
   ]
  },
  {
   "cell_type": "markdown",
   "metadata": {},
   "source": [
    "f(x) = 1/x"
   ]
  },
  {
   "cell_type": "code",
   "execution_count": null,
   "metadata": {},
   "outputs": [],
   "source": [
    "def func(x):\n",
    "    return 1/x if x>0 else 0"
   ]
  },
  {
   "cell_type": "code",
   "execution_count": null,
   "metadata": {},
   "outputs": [],
   "source": [
    "# Define a function to test Jensen's inequality\n",
    "def jensens_inequality_test(func, X):\n",
    "    \"\"\"\n",
    "    Tests Jensen's inequality for a given function and random variable X.\n",
    "\n",
    "    Args:\n",
    "    - func (function): The function for which Jensen's inequality is to be tested.\n",
    "    - X (list of tuples): Probability mass function (PMF) in the format (value, probability).\n",
    "\n",
    "    Returns:\n",
    "    - lhs (float): Left-hand side of Jensen's inequality.\n",
    "    - rhs (float): Right-hand side of Jensen's inequality.\n",
    "    \"\"\"\n",
    "    # Compute the expectation of the function\n",
    "    E_fx = expectation([(func(value), probability) for value, probability in X])\n",
    "\n",
    "    # Compute the function applied to the expectation of X\n",
    "    fx_E_X = func(expectation(X))\n",
    "\n",
    "    return E_fx, fx_E_X"
   ]
  },
  {
   "cell_type": "code",
   "execution_count": null,
   "metadata": {},
   "outputs": [],
   "source": [
    "# Generate 5 different X arrays\n",
    "X_arrays = [\n",
    "    [(0, 0.2), (1, 0.3), (2, 0.5)],\n",
    "    [(1, 0.1), (2, 0.2), (3, 0.3), (4, 0.4)],\n",
    "    [(0, 0.25), (1, 0.25), (2, 0.25), (3, 0.25)],\n",
    "    [(0, 0.4), (5, 0.3), (10, 0.2), (15, 0.1)],\n",
    "    [(0, 0.5), (1, 0.25), (2, 0.15), (3, 0.1)]\n",
    "]\n",
    "\n",
    "# Functions to test Jensen's inequality\n",
    "functions = [func]"
   ]
  },
  {
   "cell_type": "code",
   "execution_count": null,
   "metadata": {},
   "outputs": [],
   "source": [
    "# Test Jensen's inequality for each combination of X and function\n",
    "for X in X_arrays:\n",
    "    for func in functions:\n",
    "        print(\"Current X:\", X)\n",
    "        print(\"Testing function:\", func.__name__,'\\n')\n",
    "        E_fx, fx_E_X = jensens_inequality_test(func, X)\n",
    "        print(\"Expectation of f(X):\", E_fx)\n",
    "        print(\"f(Expectation of X):\", fx_E_X, '\\n')\n",
    "        if E_fx >= fx_E_X:\n",
    "            print(\"Jensen's inequality holds.\\n\\n\", \"=\"*60, '\\n')\n",
    "        else:\n",
    "            print(\"Jensen's inequality does not hold.\\n\\n\", \"=\"*60, '\\n')"
   ]
  }
 ],
 "metadata": {
  "language_info": {
   "name": "python"
  }
 },
 "nbformat": 4,
 "nbformat_minor": 2
}
