{
 "cells": [
  {
   "cell_type": "code",
   "execution_count": 80,
   "metadata": {},
   "outputs": [],
   "source": [
    "import math"
   ]
  },
  {
   "cell_type": "code",
   "execution_count": 81,
   "metadata": {},
   "outputs": [],
   "source": [
    "def expectation(X):\n",
    "    \"\"\"\n",
    "    Computes the expectation of a discrete random variable X given its probability mass function (PMF).\n",
    "\n",
    "    Args:\n",
    "    - X (list of tuples): Probability mass function (PMF) of X represented as a list of tuples in the format (value, probability).\n",
    "\n",
    "    Returns:\n",
    "    - E_X (float): Expectation of X, calculated as the sum of each value weighted by its corresponding probability.\n",
    "    \"\"\"\n",
    "    return sum(value * probability for value, probability in X)"
   ]
  },
  {
   "cell_type": "markdown",
   "metadata": {},
   "source": [
    "f(x) = 1/x"
   ]
  },
  {
   "cell_type": "code",
   "execution_count": 82,
   "metadata": {},
   "outputs": [],
   "source": [
    "def Given_func(X):\n",
    "    return 1/X"
   ]
  },
  {
   "cell_type": "code",
   "execution_count": 83,
   "metadata": {},
   "outputs": [],
   "source": [
    "p = 1/4\n",
    "n = 20"
   ]
  },
  {
   "cell_type": "code",
   "execution_count": 84,
   "metadata": {},
   "outputs": [],
   "source": [
    "# Define a function to test Jensen's inequality\n",
    "def jensens_inequality_test(func, X):\n",
    "    \"\"\"\n",
    "    Tests Jensen's inequality for a given function and random variable X.\n",
    "\n",
    "    Args:\n",
    "    - func (function): The function for which Jensen's inequality is to be tested.\n",
    "    - X (list of tuples): Probability mass function (PMF) in the format (value, probability).\n",
    "\n",
    "    Returns:\n",
    "    - lhs (float): Left-hand side of Jensen's inequality.\n",
    "    - rhs (float): Right-hand side of Jensen's inequality.\n",
    "    \"\"\"\n",
    "    # Compute the expectation of the function\n",
    "    E_fx = expectation([(func(value), probability) for value, probability in X])\n",
    "\n",
    "    # Compute the function applied to the expectation of X\n",
    "    fx_E_X = func(expectation(X))\n",
    "\n",
    "    return E_fx, fx_E_X"
   ]
  },
  {
   "cell_type": "code",
   "execution_count": 85,
   "metadata": {},
   "outputs": [],
   "source": [
    "\n",
    "X_arrays = [\n",
    "    [(1, 0.25), (2, 0.25), (3, 0.25), (4, 0.25)],\n",
    "    [(5, 0.25), (6, 0.25), (7, 0.25), (8, 0.25)],\n",
    "    [(9, 0.25), (10, 0.25), (11, 0.25), (12, 0.25)],\n",
    "    [(13, 0.25), (14, 0.25), (15, 0.25), (16, 0.25)],\n",
    "    [(17, 0.25), (18, 0.25), (19, 0.25), (20, 0.25)]\n",
    "]\n",
    "functions = [Given_func]"
   ]
  },
  {
   "cell_type": "code",
   "execution_count": 86,
   "metadata": {},
   "outputs": [
    {
     "name": "stdout",
     "output_type": "stream",
     "text": [
      "Current X: [(1, 0.25), (2, 0.25), (3, 0.25), (4, 0.25)]\n",
      "Testing function: Given_func \n",
      "\n",
      "Expectation of f(X): 0.5208333333333334\n",
      "f(Expectation of X): 0.4 \n",
      "\n",
      "Jensen's inequality holds.\n",
      "\n",
      " ============================================================ \n",
      "\n",
      "Current X: [(5, 0.25), (6, 0.25), (7, 0.25), (8, 0.25)]\n",
      "Testing function: Given_func \n",
      "\n",
      "Expectation of f(X): 0.15863095238095237\n",
      "f(Expectation of X): 0.15384615384615385 \n",
      "\n",
      "Jensen's inequality holds.\n",
      "\n",
      " ============================================================ \n",
      "\n",
      "Current X: [(9, 0.25), (10, 0.25), (11, 0.25), (12, 0.25)]\n",
      "Testing function: Given_func \n",
      "\n",
      "Expectation of f(X): 0.09633838383838383\n",
      "f(Expectation of X): 0.09523809523809523 \n",
      "\n",
      "Jensen's inequality holds.\n",
      "\n",
      " ============================================================ \n",
      "\n",
      "Current X: [(13, 0.25), (14, 0.25), (15, 0.25), (16, 0.25)]\n",
      "Testing function: Given_func \n",
      "\n",
      "Expectation of f(X): 0.06937957875457876\n",
      "f(Expectation of X): 0.06896551724137931 \n",
      "\n",
      "Jensen's inequality holds.\n",
      "\n",
      " ============================================================ \n",
      "\n",
      "Current X: [(17, 0.25), (18, 0.25), (19, 0.25), (20, 0.25)]\n",
      "Testing function: Given_func \n",
      "\n",
      "Expectation of f(X): 0.05425266597867217\n",
      "f(Expectation of X): 0.05405405405405406 \n",
      "\n",
      "Jensen's inequality holds.\n",
      "\n",
      " ============================================================ \n",
      "\n"
     ]
    }
   ],
   "source": [
    "# Test Jensen's inequality for each combination of X and function\n",
    "for X in X_arrays:\n",
    "    for func in functions:\n",
    "        print(\"Current X:\", X)\n",
    "        print(\"Testing function:\", func.__name__,'\\n')\n",
    "        E_fx, fx_E_X = jensens_inequality_test(func, X)\n",
    "        print(\"Expectation of f(X):\", E_fx)\n",
    "        print(\"f(Expectation of X):\", fx_E_X, '\\n')\n",
    "        if E_fx >= fx_E_X:\n",
    "            print(\"Jensen's inequality holds.\\n\\n\", \"=\"*60, '\\n')\n",
    "        else:\n",
    "            print(\"Jensen's inequality does not hold.\\n\\n\", \"=\"*60, '\\n')"
   ]
  }
 ],
 "metadata": {
  "kernelspec": {
   "display_name": "Python 3",
   "language": "python",
   "name": "python3"
  },
  "language_info": {
   "codemirror_mode": {
    "name": "ipython",
    "version": 3
   },
   "file_extension": ".py",
   "mimetype": "text/x-python",
   "name": "python",
   "nbconvert_exporter": "python",
   "pygments_lexer": "ipython3",
   "version": "3.12.1"
  }
 },
 "nbformat": 4,
 "nbformat_minor": 2
}
