{
  "cells": [
    {
      "cell_type": "markdown",
      "metadata": {
        "id": "M_1GhZ_NDrG8"
      },
      "source": [
        "# Import Dependency: Numpy"
      ]
    },
    {
      "cell_type": "code",
      "execution_count": 1,
      "metadata": {
        "id": "wuSuAu0cDqYe"
      },
      "outputs": [],
      "source": [
        "import numpy as np"
      ]
    },
    {
      "cell_type": "markdown",
      "metadata": {
        "id": "flTBY2DWDu7e"
      },
      "source": [
        "# Function to generate Gaussian random variables"
      ]
    },
    {
      "cell_type": "code",
      "execution_count": 2,
      "metadata": {
        "id": "UGBs2ukSD2q2"
      },
      "outputs": [],
      "source": [
        "def generate_gaussian_random_variables(mu_list, sigma_list):\n",
        "    random_variables = [np.random.normal(mu, sigma, k) for mu, sigma in zip(mu_list, sigma_list)]\n",
        "    return random_variables"
      ]
    },
    {
      "cell_type": "markdown",
      "metadata": {
        "id": "vPjwQGqfD3JZ"
      },
      "source": [
        "# Function to compute correlation and covariance matrices"
      ]
    },
    {
      "cell_type": "code",
      "execution_count": 3,
      "metadata": {
        "id": "KbBDvfUjEB3F"
      },
      "outputs": [],
      "source": [
        "def correlation_matrix(random_variables):\n",
        "    N = len(random_variables)\n",
        "    k = len(random_variables[0])  # Assuming all random variables have the same number of samples\n",
        "    corr_matrix = np.zeros((N, N))\n",
        "\n",
        "    for i in range(N):\n",
        "        for j in range(N):\n",
        "            corr_matrix[i, j] = np.mean(random_variables[i] * random_variables[j])\n",
        "\n",
        "    return corr_matrix\n",
        "\n",
        "def covariance_matrix(random_variables):\n",
        "    N = len(random_variables)\n",
        "    k = len(random_variables[0])  # Assuming all random variables have the same number of samples\n",
        "    cov_matrix = np.zeros((N, N))\n",
        "\n",
        "    for i in range(N):\n",
        "        for j in range(N):\n",
        "            cov_matrix[i, j] = np.mean((random_variables[i]-mu_list[i]) * (random_variables[j]-mu_list[j]))\n",
        "\n",
        "    return cov_matrix"
      ]
    },
    {
      "cell_type": "markdown",
      "metadata": {
        "id": "gd-t34u-ECkh"
      },
      "source": [
        "# Function to perform transformation of random variables"
      ]
    },
    {
      "cell_type": "code",
      "execution_count": 4,
      "metadata": {
        "id": "N--qQUOzEJJG"
      },
      "outputs": [],
      "source": [
        "def transform_random_vars(random_vars, A, b):\n",
        "    transformed_vars = np.dot(A, random_vars) + b[:, np.newaxis]\n",
        "    return transformed_vars"
      ]
    },
    {
      "cell_type": "markdown",
      "metadata": {
        "id": "r-i9ICrwEMh8"
      },
      "source": [
        "# Execution with N Gaussian random variables"
      ]
    },
    {
      "cell_type": "code",
      "execution_count": 5,
      "metadata": {
        "id": "oTo4PZyUzsOM"
      },
      "outputs": [
        {
          "name": "stdout",
          "output_type": "stream",
          "text": [
            "Correlation matrix of random variables:\n",
            "[[ 0.99172877  0.02170897 -0.03253347]\n",
            " [ 0.02170897  4.93014651  2.04402813]\n",
            " [-0.03253347  2.04402813 13.02462118]]\n",
            "\n",
            "\n",
            "Covariance matrix of random variables:\n",
            "[[ 0.99172877  0.02299605 -0.02995931]\n",
            " [ 0.02299605  3.93201388  0.04019812]\n",
            " [-0.02995931  0.04019812  9.00183167]]\n"
          ]
        }
      ],
      "source": [
        "N = 3  # Number of random variables\n",
        "k = 20000  # Number of samples for each random variable\n",
        "mu_list = [0, 1, 2]  # List of means\n",
        "sigma_list = [1, 2, 3]  # List of standard deviations\n",
        "\n",
        "# Generate Gaussian random variables\n",
        "random_vars = generate_gaussian_random_variables(mu_list, sigma_list)\n",
        "\n",
        "# Calculate correlation matrix\n",
        "corr_matrix = correlation_matrix(random_vars)\n",
        "print(\"Correlation matrix of random variables:\")\n",
        "print(corr_matrix)\n",
        "print('\\n')\n",
        "\n",
        "# Calculate covariance matrix\n",
        "cov_matrix = covariance_matrix(random_vars)\n",
        "print(\"Covariance matrix of random variables:\")\n",
        "print(cov_matrix)"
      ]
    },
    {
      "cell_type": "markdown",
      "metadata": {
        "id": "i97lp_ulEyoi"
      },
      "source": [
        "# Execution with transformed Guassian random variables"
      ]
    },
    {
      "cell_type": "code",
      "execution_count": 8,
      "metadata": {
        "id": "6dQot0K-EyFr"
      },
      "outputs": [
        {
          "name": "stdout",
          "output_type": "stream",
          "text": [
            "A matrix:\n",
            "[[0.14360938 0.51568587 0.04837688]\n",
            " [0.54216097 0.20204288 0.67525914]\n",
            " [0.38643988 0.39981901 0.7450892 ]]\n",
            "\n",
            "\n",
            "B vector:\n",
            "[0.77977432 0.4751133  0.80314687]\n",
            "\n",
            "\n",
            "Correlation matrix of transformed random variables:\n",
            "[[ 3.02933548  3.62503952  4.96165468]\n",
            " [ 3.62503952  8.67416766 10.53388627]\n",
            " [ 4.96165468 10.53388627 13.05909668]]\n",
            "\n",
            "\n",
            "Covariance matrix of transformed random variables:\n",
            "[[3.02933548 2.23321627 2.17800818]\n",
            " [2.23321627 5.61289722 5.77609719]\n",
            " [2.17800818 5.77609719 6.27302213]]\n"
          ]
        }
      ],
      "source": [
        "# Generate random matrix A and vector b\n",
        "A = np.random.rand(N, N)\n",
        "b = np.random.rand(N)\n",
        "print(\"A matrix:\")\n",
        "print(A)\n",
        "print('\\n')\n",
        "print(\"B vector:\")\n",
        "print(b)\n",
        "print('\\n')\n",
        "\n",
        "# Transform random variables\n",
        "transformed_vars = transform_random_vars(random_vars, A, b)\n",
        "\n",
        "# Calculate correlation matrix\n",
        "corr_matrix = correlation_matrix(transformed_vars)\n",
        "print(\"Correlation matrix of transformed random variables:\")\n",
        "print(corr_matrix)\n",
        "print('\\n')\n",
        "\n",
        "# Calculate covariance matrix\n",
        "cov_matrix = covariance_matrix(transformed_vars)\n",
        "print(\"Covariance matrix of transformed random variables:\")\n",
        "print(cov_matrix)"
      ]
    },
    {
      "cell_type": "markdown",
      "metadata": {
        "id": "SQKtW4Gv-Gza"
      },
      "source": [
        "# Function to generate Exponential random variables"
      ]
    },
    {
      "cell_type": "code",
      "execution_count": 9,
      "metadata": {
        "id": "s__RF8-I9CkA"
      },
      "outputs": [],
      "source": [
        "def generate_exponential_random_variables(mu_list):\n",
        "    random_variables = [np.random.exponential(mu,k) for mu in mu_list] # TODO\n",
        "    return random_variables"
      ]
    },
    {
      "cell_type": "markdown",
      "metadata": {
        "id": "qv-hCcK9-PhJ"
      },
      "source": [
        "# Execution with N Exponential random variables"
      ]
    },
    {
      "cell_type": "code",
      "execution_count": 12,
      "metadata": {
        "id": "BBMPZ2aO-fEN"
      },
      "outputs": [
        {
          "name": "stdout",
          "output_type": "stream",
          "text": [
            "Correlation matrix of random variables:\n",
            "[[2.00551843 0.54200254 0.34190581 0.2549302 ]\n",
            " [0.54200254 0.52658111 0.21123163 0.14756531]\n",
            " [0.34190581 0.21123163 0.25493031 0.10179202]\n",
            " [0.2549302  0.14756531 0.10179202 0.13069369]]\n",
            "\n",
            "\n",
            "Covariance matrix of random variables:\n",
            "[[1.11139533 0.04949086 0.00520947 0.00190706]\n",
            " [0.04949086 0.25760021 0.02773342 0.00969121]\n",
            " [0.00520947 0.02773342 0.1298131  0.00778715]\n",
            " [0.00190706 0.00969121 0.00778715 0.06006481]]\n"
          ]
        }
      ],
      "source": [
        "N = 4  # Number of random variables\n",
        "k = 200  # Number of samples for each random variable\n",
        "lambda_list = [1,2,3,4] # List of arrival rates  # TODO\n",
        "mu_list = [1/i for i in lambda_list]  # List of means (What is the expected value of exponential RV?)  # TODO\n",
        "\n",
        "# Generate Expoential random variables\n",
        "random_vars = generate_exponential_random_variables(mu_list) # TODO\n",
        "\n",
        "# Calculate correlation matrix\n",
        "corr_matrix =  correlation_matrix(random_vars)# TODO\n",
        "print(\"Correlation matrix of random variables:\")\n",
        "print(corr_matrix)\n",
        "print('\\n')\n",
        "\n",
        "# Calculate covariance matrix\n",
        "cov_matrix = covariance_matrix(random_vars) # TODO\n",
        "print(\"Covariance matrix of random variables:\")\n",
        "print(cov_matrix)"
      ]
    },
    {
      "cell_type": "markdown",
      "metadata": {
        "id": "HE2wlfwI-7ze"
      },
      "source": [
        "# Execution with transformed Exponential random variables"
      ]
    },
    {
      "cell_type": "code",
      "execution_count": 13,
      "metadata": {
        "id": "BdG5pq4F_Kyl"
      },
      "outputs": [
        {
          "name": "stdout",
          "output_type": "stream",
          "text": [
            "A matrix:\n",
            "[[0.71103271 0.20205407 0.1164325  0.70832885]\n",
            " [0.3698953  0.26375205 0.40449954 0.91701418]\n",
            " [0.99963539 0.12926221 0.23845827 0.38385566]\n",
            " [0.70165717 0.81679191 0.29515108 0.80029827]]\n",
            "\n",
            "\n",
            "b vector:\n",
            "[0.98653214 0.09682028 0.71005062 0.83373517]\n",
            "\n",
            "\n",
            "Correlation matrix of transformed random variables:\n",
            "[[4.60486494 2.31538385 4.64966235 5.15621346]\n",
            " [2.31538385 1.2143783  2.33809856 2.6327558 ]\n",
            " [4.64966235 2.33809856 4.80062578 5.17572664]\n",
            " [5.15621346 2.6327558  5.17572664 5.87632431]]\n",
            "\n",
            "\n",
            "Covariance matrix of transformed random variables:\n",
            "[[1.61558271 0.84655361 2.40756338 2.6677359 ]\n",
            " [0.84655361 0.49286862 1.2256527  1.39496974]\n",
            " [2.40756338 1.2256527  3.63803561 4.03481623]\n",
            " [2.6677359  1.39496974 4.03481623 4.81891567]]\n"
          ]
        }
      ],
      "source": [
        "# Generate random matrix A and vector b\n",
        "A = np.random.rand(N, N)\n",
        "b = np.random.rand(N)\n",
        "print(\"A matrix:\")\n",
        "print(A)\n",
        "print('\\n')\n",
        "print(\"b vector:\")\n",
        "print(b)\n",
        "print('\\n')\n",
        "\n",
        "# Transform random variables\n",
        "transformed_vars = transform_random_vars(random_vars, A, b) # TODO\n",
        "\n",
        "# Calculate correlation matrix\n",
        "corr_matrix = correlation_matrix(transformed_vars)# TODO\n",
        "print(\"Correlation matrix of transformed random variables:\")\n",
        "print(corr_matrix)\n",
        "print('\\n')\n",
        "\n",
        "# Calculate covariance matrix\n",
        "cov_matrix = covariance_matrix(transformed_vars)# TODO\n",
        "print(\"Covariance matrix of transformed random variables:\")\n",
        "print(cov_matrix)"
      ]
    }
  ],
  "metadata": {
    "colab": {
      "provenance": []
    },
    "kernelspec": {
      "display_name": "Python 3",
      "name": "python3"
    },
    "language_info": {
      "codemirror_mode": {
        "name": "ipython",
        "version": 3
      },
      "file_extension": ".py",
      "mimetype": "text/x-python",
      "name": "python",
      "nbconvert_exporter": "python",
      "pygments_lexer": "ipython3",
      "version": "undefined.undefined.undefined"
    }
  },
  "nbformat": 4,
  "nbformat_minor": 0
}
