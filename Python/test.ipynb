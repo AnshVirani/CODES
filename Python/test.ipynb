{
 "cells": [
  {
   "cell_type": "code",
   "execution_count": 1,
   "metadata": {},
   "outputs": [
    {
     "name": "stdout",
     "output_type": "stream",
     "text": [
      "E[f(X)] = 0.24325410369640996\n",
      "f(E[X]) = 0.2\n"
     ]
    }
   ],
   "source": [
    "import math\n",
    "\n",
    "# Define the binomial parameters\n",
    "p = 1/4\n",
    "n = 20\n",
    "\n",
    "# Define the function f(x) = 1/x\n",
    "def f(x):\n",
    "    return 1/x if x > 0 else 0  # Ensure x is greater than 0 to avoid division by zero\n",
    "\n",
    "# Calculate binomial PMF without scipy\n",
    "def binomial_pmf(k, n, p):\n",
    "    return math.comb(n, k) * (p ** k) * ((1 - p) ** (n - k))\n",
    "\n",
    "# Generate the binomial random variable X\n",
    "X_values = list(range(n + 1))\n",
    "PMF_X = [binomial_pmf(k, n, p) for k in X_values]\n",
    "\n",
    "# Calculate E[X] and E[f(X)]\n",
    "EX = sum(x * pmf for x, pmf in zip(X_values, PMF_X))\n",
    "EfX = sum(f(x) * pmf for x, pmf in zip(X_values, PMF_X))\n",
    "\n",
    "# Verify Jensen's Inequality\n",
    "print(f\"E[f(X)] = {EfX}\")\n",
    "print(f\"f(E[X]) = {f(EX)}\")\n"
   ]
  }
 ],
 "metadata": {
  "kernelspec": {
   "display_name": "Python 3",
   "language": "python",
   "name": "python3"
  },
  "language_info": {
   "codemirror_mode": {
    "name": "ipython",
    "version": 3
   },
   "file_extension": ".py",
   "mimetype": "text/x-python",
   "name": "python",
   "nbconvert_exporter": "python",
   "pygments_lexer": "ipython3",
   "version": "3.12.1"
  }
 },
 "nbformat": 4,
 "nbformat_minor": 2
}
